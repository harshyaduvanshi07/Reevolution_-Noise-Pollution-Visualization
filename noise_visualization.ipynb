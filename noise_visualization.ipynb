# Noise Visualization Notebook

# Import necessary libraries
import pandas as pd
import matplotlib.pyplot as plt
import seaborn as sns

# Load the data
data_path = 'data/noise_data_raw.csv'
noise_data = pd.read_csv(data_path)

# Display the first few rows
noise_data.head()

# Visualize noise levels by location
plt.figure(figsize=(12, 6))
sns.barplot(x='Location', y='Noise_Level', data=noise_data)
plt.title('Noise Levels by Location in Mumbai')
plt.xlabel('Location')
plt.ylabel('Noise Level (dB)')
plt.xticks(rotation=45)
plt.savefig('visuals/noise_levels_by_location.png')
plt.show()
